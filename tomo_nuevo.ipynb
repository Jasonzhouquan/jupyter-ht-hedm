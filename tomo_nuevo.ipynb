{
 "cells": [
  {
   "cell_type": "markdown",
   "metadata": {},
   "source": [
    "# Test New Tomography Experiment Control\n",
    "\n",
    "Test the OOP-based Tomography experiment control"
   ]
  },
  {
   "cell_type": "code",
   "execution_count": 1,
   "metadata": {},
   "outputs": [],
   "source": [
    "import numpy as np\n",
    "import matplotlib\n",
    "import bluesky\n",
    "import ophyd\n",
    "import apstools\n",
    "import databroker\n",
    "\n",
    "from datetime import datetime\n",
    "from seisidd.experiment import Tomography"
   ]
  },
  {
   "cell_type": "code",
   "execution_count": 2,
   "metadata": {},
   "outputs": [
    {
     "name": "stderr",
     "output_type": "stream",
     "text": [
      "/home/beams/S6BM/opt/miniconda3/envs/bluesky_py37/lib/python3.7/site-packages/databroker/_core.py:962: YAMLLoadWarning: calling yaml.load() without Loader=... is deprecated, as the default Loader is unsafe. Please read https://msg.pyyaml.org/load for full details.\n",
      "  return yaml.load(f)\n",
      "/home/beams/S6BM/opt/miniconda3/envs/bluesky_py37/lib/python3.7/site-packages/epics/pv.py:110: UserWarning: The `context` kwarg for epics.get_pv() is deprecated. New PVs will _not_ be created in the requested context.\n",
      "  'The `context` kwarg for epics.get_pv() is deprecated. New PVs '\n"
     ]
    }
   ],
   "source": [
    "# instantiate the experiment handle\n",
    "\n",
    "testexp = Tomography()"
   ]
  },
  {
   "cell_type": "code",
   "execution_count": 3,
   "metadata": {},
   "outputs": [],
   "source": [
    "testexp.mode = 'dryrun'"
   ]
  },
  {
   "cell_type": "code",
   "execution_count": 4,
   "metadata": {},
   "outputs": [],
   "source": [
    "# expose internal RunEngine\n",
    "RE = testexp.RE\n",
    "\n",
    "# setup the Metadata as before\n",
    "RE.md['beamline_id'] = 'APS 6-BM-A'\n",
    "RE.md['versions'] = {}\n",
    "RE.md['versions']['apstools'] = apstools.__version__\n",
    "RE.md['versions']['bluesky'] = bluesky.__version__\n",
    "RE.md['versions']['databroker'] = databroker.__version__\n",
    "RE.md['versions']['matplotlib'] = matplotlib.__version__\n",
    "RE.md['versions']['numpy'] = np.__version__\n",
    "RE.md['versions']['ophyd'] = ophyd.__version__\n",
    "RE.md['SESSION_STARTED'] = datetime.isoformat(datetime.now(), \" \")"
   ]
  },
  {
   "cell_type": "code",
   "execution_count": 5,
   "metadata": {},
   "outputs": [],
   "source": [
    "scan_cfg = 'seisidd/config/tomo_scan_template.yml'"
   ]
  },
  {
   "cell_type": "code",
   "execution_count": 6,
   "metadata": {},
   "outputs": [
    {
     "name": "stdout",
     "output_type": "stream",
     "text": [
      "=================================== Open Run ===================================\n",
      "A_shutter -> open\n",
      "det_tiff1_file_path -> /dev/shm/tmp/\n",
      "det_tiff1_file_name -> ttt\n",
      "det_tiff1_file_write_mode -> 2\n",
      "det_tiff1_num_capture -> 26\n",
      "det_tiff1_file_template -> %s%s_%06d.hdf\n",
      "det_hdf1_file_path -> /dev/shm/tmp/\n",
      "det_hdf1_file_name -> ttt\n",
      "det_hdf1_file_write_mode -> 2\n",
      "det_hdf1_num_capture -> 26\n",
      "det_hdf1_file_template -> %s%s_%06d.hdf\n",
      "det_tiff1_enable -> 0\n",
      "det_hdf1_enable -> 1\n",
      "det_hdf1_capture -> 1\n",
      "det_cam_frame_type -> 0\n",
      "tomostage_ksamX -> -3.9695\n",
      "tomostage_ksamZ -> 0.34750000000000014\n",
      "det_hdf1_nd_array_port -> PROC1\n",
      "det_tiff1_nd_array_port -> PROC1\n",
      "det_proc1_enable -> 1\n",
      "det_proc1_reset_filter -> 1\n",
      "det_proc1_num_filter -> 1\n",
      "det_cam_trigger_mode -> Internal\n",
      "det_cam_image_mode -> Multiple\n",
      "det_cam_num_images -> 5\n",
      "  Read ['det']\n",
      "tomostage_samX -> -2.9695\n",
      "tomostage_samY -> 0.34750000000000014\n",
      "det_cam_frame_type -> 1\n",
      "det_hdf1_nd_array_port -> PROC1\n",
      "det_tiff1_nd_array_port -> PROC1\n",
      "det_proc1_enable -> 1\n",
      "det_proc1_reset_filter -> 1\n",
      "det_proc1_num_filter -> 1\n",
      "tomostage_preci -> 0.0\n",
      "  Read ['det']\n",
      "tomostage_preci -> 0.5\n",
      "  Read ['det']\n",
      "tomostage_preci -> 1.0\n",
      "  Read ['det']\n",
      "tomostage_preci -> 1.5\n",
      "  Read ['det']\n",
      "tomostage_preci -> 2.0\n",
      "  Read ['det']\n",
      "tomostage_preci -> 2.5\n",
      "  Read ['det']\n",
      "tomostage_preci -> 3.0\n",
      "  Read ['det']\n",
      "tomostage_preci -> 3.5\n",
      "  Read ['det']\n",
      "tomostage_preci -> 4.0\n",
      "  Read ['det']\n",
      "tomostage_preci -> 4.5\n",
      "  Read ['det']\n",
      "tomostage_preci -> 5.0\n",
      "  Read ['det']\n",
      "det_cam_frame_type -> 2\n",
      "tomostage_ksamX -> -3.9656946980917454\n",
      "tomostage_ksamZ -> 0.4346557427476583\n",
      "det_hdf1_nd_array_port -> PROC1\n",
      "det_tiff1_nd_array_port -> PROC1\n",
      "det_proc1_enable -> 1\n",
      "det_proc1_reset_filter -> 1\n",
      "det_proc1_num_filter -> 1\n",
      "det_cam_trigger_mode -> Internal\n",
      "det_cam_image_mode -> Multiple\n",
      "det_cam_num_images -> 5\n",
      "  Read ['det']\n",
      "tomostage_samX -> -2.9695\n",
      "tomostage_samY -> 0.34750000000000014\n",
      "det_cam_frame_type -> 3\n",
      "A_shutter -> close\n",
      "det_hdf1_nd_array_port -> PROC1\n",
      "det_tiff1_nd_array_port -> PROC1\n",
      "det_proc1_enable -> 1\n",
      "det_proc1_reset_filter -> 1\n",
      "det_proc1_num_filter -> 1\n",
      "det_cam_trigger_mode -> Internal\n",
      "det_cam_image_mode -> Multiple\n",
      "det_cam_num_images -> 5\n",
      "  Read ['det']\n",
      "================================== Close Run ===================================\n"
     ]
    }
   ],
   "source": [
    "# summarize plan\n",
    "testexp.dryrun(scan_cfg)"
   ]
  },
  {
   "cell_type": "code",
   "execution_count": 7,
   "metadata": {},
   "outputs": [
    {
     "ename": "RuntimeError",
     "evalue": "This event loop is already running",
     "output_type": "error",
     "traceback": [
      "\u001b[0;31m---------------------------------------------------------------------------\u001b[0m",
      "\u001b[0;31mRuntimeError\u001b[0m                              Traceback (most recent call last)",
      "\u001b[0;32m<ipython-input-7-e3251959e48f>\u001b[0m in \u001b[0;36m<module>\u001b[0;34m\u001b[0m\n\u001b[0;32m----> 1\u001b[0;31m \u001b[0mtestexp\u001b[0m\u001b[0;34m.\u001b[0m\u001b[0mrun\u001b[0m\u001b[0;34m(\u001b[0m\u001b[0mscan_cfg\u001b[0m\u001b[0;34m)\u001b[0m\u001b[0;34m\u001b[0m\u001b[0;34m\u001b[0m\u001b[0m\n\u001b[0m",
      "\u001b[0;32m/home/beams29/S6BM/opt/bluesky_test/jupyter-ht-hedm/seisidd/experiment.py\u001b[0m in \u001b[0;36mrun\u001b[0;34m(self, tomo_config)\u001b[0m\n\u001b[1;32m    245\u001b[0m     \u001b[0;32mdef\u001b[0m \u001b[0mrun\u001b[0m\u001b[0;34m(\u001b[0m\u001b[0mself\u001b[0m\u001b[0;34m,\u001b[0m \u001b[0mtomo_config\u001b[0m\u001b[0;34m)\u001b[0m\u001b[0;34m:\u001b[0m\u001b[0;34m\u001b[0m\u001b[0;34m\u001b[0m\u001b[0m\n\u001b[1;32m    246\u001b[0m         \u001b[0;34m\"\"\"run the tomography experiment\"\"\"\u001b[0m\u001b[0;34m\u001b[0m\u001b[0;34m\u001b[0m\u001b[0m\n\u001b[0;32m--> 247\u001b[0;31m         \u001b[0;32mreturn\u001b[0m \u001b[0mself\u001b[0m\u001b[0;34m.\u001b[0m\u001b[0mRE\u001b[0m\u001b[0;34m(\u001b[0m\u001b[0mtomo_scan\u001b[0m\u001b[0;34m(\u001b[0m\u001b[0mself\u001b[0m\u001b[0;34m,\u001b[0m \u001b[0mtomo_config\u001b[0m\u001b[0;34m)\u001b[0m\u001b[0;34m)\u001b[0m\u001b[0;34m\u001b[0m\u001b[0;34m\u001b[0m\u001b[0m\n\u001b[0m\u001b[1;32m    248\u001b[0m \u001b[0;34m\u001b[0m\u001b[0m\n\u001b[1;32m    249\u001b[0m \u001b[0;34m\u001b[0m\u001b[0m\n",
      "\u001b[0;32m~/opt/miniconda3/envs/bluesky_py37/lib/python3.7/site-packages/bluesky/run_engine.py\u001b[0m in \u001b[0;36m__call__\u001b[0;34m(self, *args, **metadata_kw)\u001b[0m\n\u001b[1;32m    740\u001b[0m             \u001b[0mself\u001b[0m\u001b[0;34m.\u001b[0m\u001b[0mlog\u001b[0m\u001b[0;34m.\u001b[0m\u001b[0minfo\u001b[0m\u001b[0;34m(\u001b[0m\u001b[0;34m\"Executing plan %r\"\u001b[0m\u001b[0;34m,\u001b[0m \u001b[0mself\u001b[0m\u001b[0;34m.\u001b[0m\u001b[0m_plan\u001b[0m\u001b[0;34m)\u001b[0m\u001b[0;34m\u001b[0m\u001b[0;34m\u001b[0m\u001b[0m\n\u001b[1;32m    741\u001b[0m             \u001b[0;32mtry\u001b[0m\u001b[0;34m:\u001b[0m\u001b[0;34m\u001b[0m\u001b[0;34m\u001b[0m\u001b[0m\n\u001b[0;32m--> 742\u001b[0;31m                 \u001b[0mself\u001b[0m\u001b[0;34m.\u001b[0m\u001b[0mloop\u001b[0m\u001b[0;34m.\u001b[0m\u001b[0mrun_forever\u001b[0m\u001b[0;34m(\u001b[0m\u001b[0;34m)\u001b[0m\u001b[0;34m\u001b[0m\u001b[0;34m\u001b[0m\u001b[0m\n\u001b[0m\u001b[1;32m    743\u001b[0m             \u001b[0;32mfinally\u001b[0m\u001b[0;34m:\u001b[0m\u001b[0;34m\u001b[0m\u001b[0;34m\u001b[0m\u001b[0m\n\u001b[1;32m    744\u001b[0m                 \u001b[0;32mif\u001b[0m \u001b[0mself\u001b[0m\u001b[0;34m.\u001b[0m\u001b[0m_task\u001b[0m\u001b[0;34m.\u001b[0m\u001b[0mdone\u001b[0m\u001b[0;34m(\u001b[0m\u001b[0;34m)\u001b[0m\u001b[0;34m:\u001b[0m\u001b[0;34m\u001b[0m\u001b[0;34m\u001b[0m\u001b[0m\n",
      "\u001b[0;32m~/opt/miniconda3/envs/bluesky_py37/lib/python3.7/asyncio/base_events.py\u001b[0m in \u001b[0;36mrun_forever\u001b[0;34m(self)\u001b[0m\n\u001b[1;32m    524\u001b[0m         \u001b[0mself\u001b[0m\u001b[0;34m.\u001b[0m\u001b[0m_check_closed\u001b[0m\u001b[0;34m(\u001b[0m\u001b[0;34m)\u001b[0m\u001b[0;34m\u001b[0m\u001b[0;34m\u001b[0m\u001b[0m\n\u001b[1;32m    525\u001b[0m         \u001b[0;32mif\u001b[0m \u001b[0mself\u001b[0m\u001b[0;34m.\u001b[0m\u001b[0mis_running\u001b[0m\u001b[0;34m(\u001b[0m\u001b[0;34m)\u001b[0m\u001b[0;34m:\u001b[0m\u001b[0;34m\u001b[0m\u001b[0;34m\u001b[0m\u001b[0m\n\u001b[0;32m--> 526\u001b[0;31m             \u001b[0;32mraise\u001b[0m \u001b[0mRuntimeError\u001b[0m\u001b[0;34m(\u001b[0m\u001b[0;34m'This event loop is already running'\u001b[0m\u001b[0;34m)\u001b[0m\u001b[0;34m\u001b[0m\u001b[0;34m\u001b[0m\u001b[0m\n\u001b[0m\u001b[1;32m    527\u001b[0m         \u001b[0;32mif\u001b[0m \u001b[0mevents\u001b[0m\u001b[0;34m.\u001b[0m\u001b[0m_get_running_loop\u001b[0m\u001b[0;34m(\u001b[0m\u001b[0;34m)\u001b[0m \u001b[0;32mis\u001b[0m \u001b[0;32mnot\u001b[0m \u001b[0;32mNone\u001b[0m\u001b[0;34m:\u001b[0m\u001b[0;34m\u001b[0m\u001b[0;34m\u001b[0m\u001b[0m\n\u001b[1;32m    528\u001b[0m             raise RuntimeError(\n",
      "\u001b[0;31mRuntimeError\u001b[0m: This event loop is already running"
     ]
    },
    {
     "name": "stdout",
     "output_type": "stream",
     "text": [
      "Transient Scan ID: 1     Time: 2019-08-21 14:56:49\n",
      "Persistent Unique Scan ID: '32f39ba3-9268-438e-9227-99318e34891b'\n",
      "New stream: 'primary'\n",
      "+-----------+------------+\n",
      "|   seq_num |       time |\n",
      "+-----------+------------+\n",
      "|         1 | 14:56:54.4 |\n",
      "|         2 | 14:57:03.4 |\n",
      "|         3 | 14:57:06.5 |\n",
      "|         4 | 14:57:09.5 |\n",
      "|         5 | 14:57:12.6 |\n",
      "|         6 | 14:57:15.6 |\n",
      "|         7 | 14:57:18.7 |\n",
      "|         8 | 14:57:21.7 |\n",
      "|         9 | 14:57:24.8 |\n",
      "|        10 | 14:57:27.9 |\n",
      "|        11 | 14:57:30.9 |\n",
      "|        12 | 14:57:34.0 |\n",
      "|        13 | 14:57:37.0 |\n",
      "|        14 | 14:57:40.1 |\n",
      "+-----------+------------+\n",
      "generator tomo_scan ['32f39ba3'] (scan num: 1)\n",
      "\n",
      "\n",
      "\n"
     ]
    },
    {
     "name": "stderr",
     "output_type": "stream",
     "text": [
      "ERROR:root:Invalid alias: The name clear can't be aliased because it is another magic command.\n",
      "ERROR:root:Invalid alias: The name more can't be aliased because it is another magic command.\n",
      "ERROR:root:Invalid alias: The name less can't be aliased because it is another magic command.\n",
      "ERROR:root:Invalid alias: The name man can't be aliased because it is another magic command.\n"
     ]
    }
   ],
   "source": [
    "testexp.run(scan_cfg)"
   ]
  },
  {
   "cell_type": "code",
   "execution_count": null,
   "metadata": {},
   "outputs": [],
   "source": []
  }
 ],
 "metadata": {
  "kernelspec": {
   "display_name": "Python 3",
   "language": "python",
   "name": "python3"
  },
  "language_info": {
   "codemirror_mode": {
    "name": "ipython",
    "version": 3
   },
   "file_extension": ".py",
   "mimetype": "text/x-python",
   "name": "python",
   "nbconvert_exporter": "python",
   "pygments_lexer": "ipython3",
   "version": "3.7.3"
  }
 },
 "nbformat": 4,
 "nbformat_minor": 4
}
