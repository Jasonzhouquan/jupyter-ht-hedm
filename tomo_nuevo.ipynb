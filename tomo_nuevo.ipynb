{
 "cells": [
  {
   "cell_type": "markdown",
   "metadata": {},
   "source": [
    "# Test New Tomography Experiment Control\n",
    "\n",
    "Test the OOP-based Tomography experiment control"
   ]
  },
  {
   "cell_type": "code",
   "execution_count": 1,
   "metadata": {},
   "outputs": [],
   "source": [
    "import numpy as np\n",
    "import matplotlib\n",
    "import bluesky\n",
    "import ophyd\n",
    "import apstools\n",
    "import databroker\n",
    "\n",
    "from datetime import datetime\n",
    "from seisidd.experiment import Tomography"
   ]
  },
  {
   "cell_type": "code",
   "execution_count": 2,
   "metadata": {},
   "outputs": [
    {
     "name": "stderr",
     "output_type": "stream",
     "text": [
      "/home/beams/S6BM/opt/miniconda3/envs/bluesky_py37_tornado6/lib/python3.7/site-packages/epics/pv.py:110: UserWarning: The `context` kwarg for epics.get_pv() is deprecated. New PVs will _not_ be created in the requested context.\n",
      "  'The `context` kwarg for epics.get_pv() is deprecated. New PVs '\n"
     ]
    }
   ],
   "source": [
    "# instantiate the experiment handle\n",
    "\n",
    "testexp = Tomography()"
   ]
  },
  {
   "cell_type": "code",
   "execution_count": 3,
   "metadata": {},
   "outputs": [],
   "source": [
    "testexp.mode = 'dryrun'"
   ]
  },
  {
   "cell_type": "code",
   "execution_count": 4,
   "metadata": {},
   "outputs": [],
   "source": [
    "# expose internal RunEngine\n",
    "RE = testexp.RE\n",
    "\n",
    "# setup the Metadata as before\n",
    "RE.md['beamline_id'] = 'APS 6-BM-A'\n",
    "RE.md['versions'] = {}\n",
    "RE.md['versions']['apstools'] = apstools.__version__\n",
    "RE.md['versions']['bluesky'] = bluesky.__version__\n",
    "RE.md['versions']['databroker'] = databroker.__version__\n",
    "RE.md['versions']['matplotlib'] = matplotlib.__version__\n",
    "RE.md['versions']['numpy'] = np.__version__\n",
    "RE.md['versions']['ophyd'] = ophyd.__version__\n",
    "RE.md['SESSION_STARTED'] = datetime.isoformat(datetime.now(), \" \")"
   ]
  },
  {
   "cell_type": "code",
   "execution_count": 5,
   "metadata": {},
   "outputs": [],
   "source": [
    "scan_cfg = 'seisidd/config/tomo_scan_template.yml'"
   ]
  },
  {
   "cell_type": "code",
   "execution_count": 6,
   "metadata": {},
   "outputs": [
    {
     "name": "stdout",
     "output_type": "stream",
     "text": [
      "=================================== Open Run ===================================\n",
      "A_shutter -> open\n",
      "det_tiff1_file_path -> /dev/shm/tmp/\n",
      "det_tiff1_file_name -> ttt\n",
      "det_tiff1_file_write_mode -> 2\n",
      "det_tiff1_num_capture -> 26\n",
      "det_tiff1_file_template -> %s%s_%06d.hdf\n",
      "det_hdf1_file_path -> /dev/shm/tmp/\n",
      "det_hdf1_file_name -> ttt\n",
      "det_hdf1_file_write_mode -> 2\n",
      "det_hdf1_num_capture -> 26\n",
      "det_hdf1_file_template -> %s%s_%06d.hdf\n",
      "det_tiff1_enable -> 0\n",
      "det_hdf1_enable -> 1\n",
      "det_hdf1_capture -> 1\n",
      "det_cam_frame_type -> 0\n",
      "tomostage_ksamX -> -1.0\n",
      "tomostage_ksamZ -> 0.0\n",
      "det_hdf1_nd_array_port -> PROC1\n",
      "det_tiff1_nd_array_port -> PROC1\n",
      "det_proc1_enable -> 1\n",
      "det_proc1_reset_filter -> 1\n",
      "det_proc1_num_filter -> 1\n",
      "det_cam_trigger_mode -> Internal\n",
      "det_cam_image_mode -> Multiple\n",
      "det_cam_num_images -> 5\n",
      "  Read ['det']\n",
      "tomostage_ksamX -> 0.0\n",
      "tomostage_ksamZ -> 0.0\n",
      "det_cam_frame_type -> 1\n",
      "det_hdf1_nd_array_port -> PROC1\n",
      "det_tiff1_nd_array_port -> PROC1\n",
      "det_proc1_enable -> 1\n",
      "det_proc1_reset_filter -> 1\n",
      "det_proc1_num_filter -> 1\n",
      "tomostage_preci -> 0.0\n",
      "  Read ['det']\n",
      "tomostage_preci -> 0.5\n",
      "  Read ['det']\n",
      "tomostage_preci -> 1.0\n",
      "  Read ['det']\n",
      "tomostage_preci -> 1.5\n",
      "  Read ['det']\n",
      "tomostage_preci -> 2.0\n",
      "  Read ['det']\n",
      "tomostage_preci -> 2.5\n",
      "  Read ['det']\n",
      "tomostage_preci -> 3.0\n",
      "  Read ['det']\n",
      "tomostage_preci -> 3.5\n",
      "  Read ['det']\n",
      "tomostage_preci -> 4.0\n",
      "  Read ['det']\n",
      "tomostage_preci -> 4.5\n",
      "  Read ['det']\n",
      "tomostage_preci -> 5.0\n",
      "  Read ['det']\n",
      "det_cam_frame_type -> 2\n",
      "tomostage_ksamX -> -0.9961946980917455\n",
      "tomostage_ksamZ -> 0.08715574274765817\n",
      "det_hdf1_nd_array_port -> PROC1\n",
      "det_tiff1_nd_array_port -> PROC1\n",
      "det_proc1_enable -> 1\n",
      "det_proc1_reset_filter -> 1\n",
      "det_proc1_num_filter -> 1\n",
      "det_cam_trigger_mode -> Internal\n",
      "det_cam_image_mode -> Multiple\n",
      "det_cam_num_images -> 5\n",
      "  Read ['det']\n",
      "tomostage_ksamX -> 0.0\n",
      "tomostage_ksamZ -> 0.0\n",
      "det_cam_frame_type -> 3\n",
      "A_shutter -> close\n",
      "det_hdf1_nd_array_port -> PROC1\n",
      "det_tiff1_nd_array_port -> PROC1\n",
      "det_proc1_enable -> 1\n",
      "det_proc1_reset_filter -> 1\n",
      "det_proc1_num_filter -> 1\n",
      "det_cam_trigger_mode -> Internal\n",
      "det_cam_image_mode -> Multiple\n",
      "det_cam_num_images -> 5\n",
      "  Read ['det']\n",
      "================================== Close Run ===================================\n"
     ]
    }
   ],
   "source": [
    "# summarize plan\n",
    "testexp.dryrun(scan_cfg)"
   ]
  },
  {
   "cell_type": "code",
   "execution_count": 8,
   "metadata": {},
   "outputs": [
    {
     "name": "stdout",
     "output_type": "stream",
     "text": [
      "Transient Scan ID: 2     Time: 2019-08-22 12:47:10\n",
      "Persistent Unique Scan ID: 'e4c9c153-1090-47f1-bf23-fc246ac11792'\n",
      "New stream: 'primary'\n",
      "+-----------+------------+\n",
      "|   seq_num |       time |\n",
      "+-----------+------------+\n",
      "|         1 | 12:47:16.2 |\n",
      "|         2 | 12:47:22.3 |\n",
      "|         3 | 12:47:25.4 |\n",
      "|         4 | 12:47:28.4 |\n",
      "|         5 | 12:47:31.5 |\n",
      "|         6 | 12:47:34.6 |\n",
      "|         7 | 12:47:37.6 |\n",
      "|         8 | 12:47:40.7 |\n",
      "|         9 | 12:47:43.7 |\n",
      "|        10 | 12:47:46.8 |\n",
      "|        11 | 12:47:49.9 |\n",
      "|        12 | 12:47:52.9 |\n",
      "|        13 | 12:47:57.5 |\n",
      "|        14 | 12:48:02.1 |\n",
      "+-----------+------------+\n",
      "generator tomo_scan ['e4c9c153'] (scan num: 2)\n",
      "\n",
      "\n",
      "\n"
     ]
    },
    {
     "data": {
      "text/plain": [
       "('e4c9c153-1090-47f1-bf23-fc246ac11792',)"
      ]
     },
     "execution_count": 8,
     "metadata": {},
     "output_type": "execute_result"
    }
   ],
   "source": [
    "testexp.run(scan_cfg)"
   ]
  },
  {
   "cell_type": "code",
   "execution_count": null,
   "metadata": {},
   "outputs": [],
   "source": []
  }
 ],
 "metadata": {
  "kernelspec": {
   "display_name": "Python 3",
   "language": "python",
   "name": "python3"
  },
  "language_info": {
   "codemirror_mode": {
    "name": "ipython",
    "version": 3
   },
   "file_extension": ".py",
   "mimetype": "text/x-python",
   "name": "python",
   "nbconvert_exporter": "python",
   "pygments_lexer": "ipython3",
   "version": "3.7.3"
  }
 },
 "nbformat": 4,
 "nbformat_minor": 4
}
