{
 "cells": [
  {
   "cell_type": "code",
   "execution_count": 1,
   "metadata": {},
   "outputs": [],
   "source": [
    "import numpy as np\n",
    "import matplotlib\n",
    "import bluesky\n",
    "import ophyd\n",
    "import apstools\n",
    "import databroker\n",
    "\n",
    "from datetime import datetime\n",
    "from seisidd.experiment import Tomography"
   ]
  },
  {
   "cell_type": "code",
   "execution_count": 2,
   "metadata": {},
   "outputs": [
    {
     "name": "stderr",
     "output_type": "stream",
     "text": [
      "/opt/conda/lib/python3.7/site-packages/epics/pv.py:110: UserWarning: The `context` kwarg for epics.get_pv() is deprecated. New PVs will _not_ be created in the requested context.\n",
      "  'The `context` kwarg for epics.get_pv() is deprecated. New PVs '\n"
     ]
    }
   ],
   "source": [
    "test = Tomography()"
   ]
  },
  {
   "cell_type": "code",
   "execution_count": 3,
   "metadata": {},
   "outputs": [],
   "source": [
    "scan_cfg = 'seisidd/config/scan_template.yml'"
   ]
  },
  {
   "cell_type": "code",
   "execution_count": 4,
   "metadata": {},
   "outputs": [
    {
     "name": "stdout",
     "output_type": "stream",
     "text": [
      "Tomo configuration:\n",
      "type = step \n",
      "n_white = 5 \n",
      "n_dark = 5 \n",
      "sample_out_position:\n",
      "  kx = -1 \n",
      "  kz = 0 \n",
      "acquire_time = 0.3 \n",
      "acquire_period = 0.31 \n",
      "omega_step = 1 \n",
      "omega_start = 0.0 \n",
      "omega_end = 9.0 \n",
      "n_frames = 2 \n",
      "ROT_STAGE_FAST_SPEED = 1 \n",
      "accl = 3 \n",
      "readout_time = 0.001 \n",
      "n_projections = 10 \n",
      "total_images = 25 \n",
      "initial_kx = 0.0 \n",
      "initial_kz = 0.0 \n",
      "fronte_white_kx = -1.0 \n",
      "fronte_white_kz = 0.0 \n",
      "back_white_kx = -0.9876883405951378 \n",
      "back_white_kz = 0.15643446504023087 \n",
      "\n",
      "Output:\n",
      "filepath = /data \n",
      "fileprefix = ttt \n",
      "type = hdf \n",
      "\n",
      "Transient Scan ID: 1     Time: 2019-10-17 16:53:29\n",
      "Persistent Unique Scan ID: '294c80f2-ede2-406e-a758-2467e835b668'\n",
      "New stream: 'primary'\n",
      "+-----------+------------+\n",
      "|   seq_num |       time |\n",
      "+-----------+------------+\n",
      "|         1 | 16:53:30.7 |\n",
      "|         2 | 16:53:41.9 |\n",
      "|         3 | 16:53:43.8 |\n",
      "|         4 | 16:53:45.7 |\n",
      "|         5 | 16:53:47.6 |\n",
      "|         6 | 16:53:49.5 |\n",
      "|         7 | 16:53:51.4 |\n",
      "|         8 | 16:53:53.3 |\n",
      "|         9 | 16:53:55.3 |\n",
      "|        10 | 16:53:57.2 |\n",
      "|        11 | 16:53:59.1 |\n",
      "|        12 | 16:54:03.8 |\n",
      "|        13 | 16:54:08.7 |\n",
      "+-----------+------------+\n",
      "generator tomo_scan ['294c80f2'] (scan num: 1)\n",
      "\n",
      "\n",
      "\n"
     ]
    },
    {
     "data": {
      "text/plain": [
       "('294c80f2-ede2-406e-a758-2467e835b668',)"
      ]
     },
     "execution_count": 4,
     "metadata": {},
     "output_type": "execute_result"
    }
   ],
   "source": [
    "test.run(scan_cfg)"
   ]
  },
  {
   "cell_type": "code",
   "execution_count": 10,
   "metadata": {},
   "outputs": [
    {
     "ename": "TypeError",
     "evalue": "check() missing 1 required positional argument: 'cfg'",
     "output_type": "error",
     "traceback": [
      "\u001b[0;31m\u001b[0m",
      "\u001b[0;31mTypeError\u001b[0mTraceback (most recent call last)",
      "\u001b[0;32m<ipython-input-10-f155f413e575>\u001b[0m in \u001b[0;36m<module>\u001b[0;34m\u001b[0m\n\u001b[0;32m----> 1\u001b[0;31m \u001b[0mtest\u001b[0m\u001b[0;34m.\u001b[0m\u001b[0mcheck\u001b[0m\u001b[0;34m(\u001b[0m\u001b[0;34m)\u001b[0m\u001b[0;34m\u001b[0m\u001b[0;34m\u001b[0m\u001b[0m\n\u001b[0m",
      "\u001b[0;31mTypeError\u001b[0m: check() missing 1 required positional argument: 'cfg'"
     ]
    }
   ],
   "source": [
    "test.check()"
   ]
  },
  {
   "cell_type": "code",
   "execution_count": 21,
   "metadata": {},
   "outputs": [],
   "source": [
    "det = test.tomo_det.tiff1\n"
   ]
  },
  {
   "cell_type": "code",
   "execution_count": 22,
   "metadata": {},
   "outputs": [
    {
     "data": {
      "text/plain": [
       "OrderedDict([('enable', 1),\n",
       "             ('blocking_callbacks', 'Yes'),\n",
       "             ('parent.cam.array_callbacks', 1)])"
      ]
     },
     "execution_count": 22,
     "metadata": {},
     "output_type": "execute_result"
    }
   ],
   "source": [
    "det.stage_sigs"
   ]
  },
  {
   "cell_type": "code",
   "execution_count": 5,
   "metadata": {},
   "outputs": [],
   "source": [
    "det = test.tomo_det.tiff1\n"
   ]
  },
  {
   "cell_type": "code",
   "execution_count": 13,
   "metadata": {},
   "outputs": [],
   "source": [
    "test.tomo_det.cam.num_images.put(1)"
   ]
  },
  {
   "cell_type": "code",
   "execution_count": 8,
   "metadata": {},
   "outputs": [],
   "source": [
    "import bluesky"
   ]
  },
  {
   "cell_type": "code",
   "execution_count": 9,
   "metadata": {},
   "outputs": [
    {
     "data": {
      "text/plain": [
       "<module 'bluesky' from '/opt/conda/lib/python3.7/site-packages/bluesky/__init__.py'>"
      ]
     },
     "execution_count": 9,
     "metadata": {},
     "output_type": "execute_result"
    }
   ],
   "source": [
    "bluesky"
   ]
  },
  {
   "cell_type": "code",
   "execution_count": null,
   "metadata": {},
   "outputs": [],
   "source": []
  }
 ],
 "metadata": {
  "kernelspec": {
   "display_name": "Python 3",
   "language": "python",
   "name": "python3"
  },
  "language_info": {
   "codemirror_mode": {
    "name": "ipython",
    "version": 3
   },
   "file_extension": ".py",
   "mimetype": "text/x-python",
   "name": "python",
   "nbconvert_exporter": "python",
   "pygments_lexer": "ipython3",
   "version": "3.7.4"
  }
 },
 "nbformat": 4,
 "nbformat_minor": 4
}
