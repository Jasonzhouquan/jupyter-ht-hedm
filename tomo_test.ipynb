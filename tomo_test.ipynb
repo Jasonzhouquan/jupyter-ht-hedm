{
 "cells": [
  {
   "cell_type": "code",
   "execution_count": 1,
   "metadata": {},
   "outputs": [],
   "source": [
    "import numpy as np\n",
    "import matplotlib\n",
    "import bluesky\n",
    "import ophyd\n",
    "import apstools\n",
    "import databroker\n",
    "\n",
    "from datetime import datetime\n",
    "from seisidd.experiment import Tomography"
   ]
  },
  {
   "cell_type": "code",
   "execution_count": 2,
   "metadata": {},
   "outputs": [
    {
     "name": "stderr",
     "output_type": "stream",
     "text": [
      "/opt/conda/lib/python3.7/site-packages/epics/pv.py:110: UserWarning: The `context` kwarg for epics.get_pv() is deprecated. New PVs will _not_ be created in the requested context.\n",
      "  'The `context` kwarg for epics.get_pv() is deprecated. New PVs '\n"
     ]
    }
   ],
   "source": [
    "test = Tomography()"
   ]
  },
  {
   "cell_type": "code",
   "execution_count": 3,
   "metadata": {},
   "outputs": [],
   "source": [
    "scan_cfg = 'seisidd/config/scan_template.yml'"
   ]
  },
  {
   "cell_type": "code",
   "execution_count": 4,
   "metadata": {},
   "outputs": [
    {
     "name": "stdout",
     "output_type": "stream",
     "text": [
      "Tomo configuration:\n",
      "type = step \n",
      "n_white = 5 \n",
      "n_dark = 5 \n",
      "sample_out_position:\n",
      "  kx = -1 \n",
      "  kz = 0 \n",
      "acquire_time = 0.1 \n",
      "acquire_period = 0.11 \n",
      "omega_step = 0.2 \n",
      "omega_start = 0.0 \n",
      "omega_end = 10.0 \n",
      "n_frames = 1 \n",
      "ROT_STAGE_FAST_SPEED = 1 \n",
      "accl = 3 \n",
      "readout_time = 0.001 \n",
      "n_projections = 51 \n",
      "total_images = 66 \n",
      "initial_kx = 0.0 \n",
      "initial_kz = 0.0 \n",
      "fronte_white_kx = -1.0 \n",
      "fronte_white_kz = 0.0 \n",
      "back_white_kx = -0.984807753012208 \n",
      "back_white_kz = 0.17364817766693033 \n",
      "\n",
      "Output:\n",
      "filepath = /data \n",
      "fileprefix = ttt \n",
      "type = tif \n",
      "\n",
      "Transient Scan ID: 1     Time: 2019-10-16 22:40:14\n",
      "Persistent Unique Scan ID: '90a920cf-0b08-4a45-83a4-a78763bef574'\n",
      "start to collect front white\n",
      "New stream: 'primary'\n",
      "+-----------+------------+\n",
      "|   seq_num |       time |\n",
      "+-----------+------------+\n",
      "|         1 | 22:40:16.0 |\n",
      "|         2 | 22:40:27.7 |\n",
      "|         3 | 22:40:28.2 |\n",
      "|         4 | 22:40:28.6 |\n",
      "|         5 | 22:40:29.2 |\n",
      "|         6 | 22:40:29.7 |\n",
      "|         7 | 22:40:30.2 |\n",
      "|         8 | 22:40:30.7 |\n",
      "|         9 | 22:40:31.2 |\n",
      "|        10 | 22:40:31.7 |\n",
      "|        11 | 22:40:32.2 |\n",
      "|        12 | 22:40:32.6 |\n",
      "|        13 | 22:40:33.1 |\n",
      "|        14 | 22:40:33.6 |\n",
      "|        15 | 22:40:34.1 |\n",
      "|        16 | 22:40:34.6 |\n",
      "|        17 | 22:40:35.1 |\n",
      "|        18 | 22:40:35.6 |\n",
      "|        19 | 22:40:36.1 |\n",
      "|        20 | 22:40:36.6 |\n",
      "|        21 | 22:40:37.1 |\n",
      "|        22 | 22:40:37.6 |\n",
      "|        23 | 22:40:38.1 |\n",
      "|        24 | 22:40:38.6 |\n",
      "|        25 | 22:40:39.1 |\n",
      "|        26 | 22:40:39.6 |\n",
      "|        27 | 22:40:40.1 |\n",
      "|        28 | 22:40:40.6 |\n",
      "|        29 | 22:40:41.2 |\n",
      "|        30 | 22:40:41.7 |\n",
      "|        31 | 22:40:42.2 |\n",
      "|        32 | 22:40:42.7 |\n",
      "|        33 | 22:40:43.2 |\n",
      "|        34 | 22:40:43.7 |\n",
      "|        35 | 22:40:44.2 |\n",
      "|        36 | 22:40:44.7 |\n",
      "|        37 | 22:40:45.2 |\n",
      "|        38 | 22:40:45.9 |\n",
      "|        39 | 22:40:46.4 |\n",
      "|        40 | 22:40:46.9 |\n",
      "|        41 | 22:40:47.4 |\n",
      "|        42 | 22:40:47.9 |\n",
      "|        43 | 22:40:48.4 |\n",
      "|        44 | 22:40:48.9 |\n",
      "|        45 | 22:40:49.4 |\n",
      "|        46 | 22:40:49.9 |\n",
      "|        47 | 22:40:50.4 |\n",
      "|        48 | 22:40:51.0 |\n",
      "|        49 | 22:40:51.5 |\n",
      "+-----------+------------+\n",
      "|   seq_num |       time |\n",
      "+-----------+------------+\n",
      "|        50 | 22:40:52.0 |\n",
      "|        51 | 22:40:52.5 |\n",
      "|        52 | 22:40:53.0 |\n",
      "|        53 | 22:40:54.6 |\n",
      "|        54 | 22:40:56.3 |\n",
      "+-----------+------------+\n",
      "generator tomo_scan ['90a920cf'] (scan num: 1)\n",
      "\n",
      "\n",
      "\n"
     ]
    },
    {
     "data": {
      "text/plain": [
       "('90a920cf-0b08-4a45-83a4-a78763bef574',)"
      ]
     },
     "execution_count": 4,
     "metadata": {},
     "output_type": "execute_result"
    }
   ],
   "source": [
    "test.run(scan_cfg)"
   ]
  },
  {
   "cell_type": "code",
   "execution_count": 5,
   "metadata": {},
   "outputs": [
    {
     "data": {
      "text/plain": [
       "'debug'"
      ]
     },
     "execution_count": 5,
     "metadata": {},
     "output_type": "execute_result"
    }
   ],
   "source": [
    "test._mode"
   ]
  },
  {
   "cell_type": "code",
   "execution_count": 21,
   "metadata": {},
   "outputs": [],
   "source": [
    "det = test.tomo_det.tiff1\n"
   ]
  },
  {
   "cell_type": "code",
   "execution_count": 22,
   "metadata": {},
   "outputs": [
    {
     "data": {
      "text/plain": [
       "OrderedDict([('enable', 1),\n",
       "             ('blocking_callbacks', 'Yes'),\n",
       "             ('parent.cam.array_callbacks', 1)])"
      ]
     },
     "execution_count": 22,
     "metadata": {},
     "output_type": "execute_result"
    }
   ],
   "source": [
    "det.stage_sigs"
   ]
  },
  {
   "cell_type": "code",
   "execution_count": 5,
   "metadata": {},
   "outputs": [],
   "source": [
    "det = test.tomo_det.tiff1\n"
   ]
  },
  {
   "cell_type": "code",
   "execution_count": 13,
   "metadata": {},
   "outputs": [],
   "source": [
    "test.tomo_det.cam.num_images.put(1)"
   ]
  },
  {
   "cell_type": "code",
   "execution_count": 8,
   "metadata": {},
   "outputs": [],
   "source": [
    "import bluesky"
   ]
  },
  {
   "cell_type": "code",
   "execution_count": 9,
   "metadata": {},
   "outputs": [
    {
     "data": {
      "text/plain": [
       "<module 'bluesky' from '/opt/conda/lib/python3.7/site-packages/bluesky/__init__.py'>"
      ]
     },
     "execution_count": 9,
     "metadata": {},
     "output_type": "execute_result"
    }
   ],
   "source": [
    "bluesky"
   ]
  },
  {
   "cell_type": "code",
   "execution_count": null,
   "metadata": {},
   "outputs": [],
   "source": []
  }
 ],
 "metadata": {
  "kernelspec": {
   "display_name": "Python 3",
   "language": "python",
   "name": "python3"
  },
  "language_info": {
   "codemirror_mode": {
    "name": "ipython",
    "version": 3
   },
   "file_extension": ".py",
   "mimetype": "text/x-python",
   "name": "python",
   "nbconvert_exporter": "python",
   "pygments_lexer": "ipython3",
   "version": "3.7.4"
  }
 },
 "nbformat": 4,
 "nbformat_minor": 4
}
