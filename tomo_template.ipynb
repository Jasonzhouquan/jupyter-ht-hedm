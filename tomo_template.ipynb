{
 "cells": [
  {
   "cell_type": "markdown",
   "metadata": {},
   "source": [
    "# Preparation\n",
    "\n",
    "Load necessary modules and initialize relavent devices"
   ]
  },
  {
   "cell_type": "code",
   "execution_count": 1,
   "metadata": {},
   "outputs": [
    {
     "name": "stderr",
     "output_type": "stream",
     "text": [
      "/Users/chenzhang/opt/anaconda3/envs/bluesky/lib/python3.7/site-packages/databroker/_core.py:962: YAMLLoadWarning: calling yaml.load() without Loader=... is deprecated, as the default Loader is unsafe. Please read https://msg.pyyaml.org/load for full details.\n",
      "  return yaml.load(f)\n",
      "/Users/chenzhang/opt/anaconda3/envs/bluesky/lib/python3.7/site-packages/epics/pv.py:110: UserWarning: The `context` kwarg for epics.get_pv() is deprecated. New PVs will _not_ be created in the requested context.\n",
      "  'The `context` kwarg for epics.get_pv() is deprecated. New PVs '\n"
     ]
    }
   ],
   "source": [
    "%run seisidd/tomo_init.py"
   ]
  },
  {
   "cell_type": "markdown",
   "metadata": {},
   "source": [
    "You can check the __prefined variables and functions__ in the following two dictionaries:\n",
    "\n",
    "```\n",
    "keywords_vars = {}  # {name: short description}\n",
    "keywords_func = {}  # {name: short descciption}\n",
    "```\n",
    "\n",
    "or the corresponding functions:\n",
    "\n",
    "```\n",
    "list_predefined_vars()\n",
    "list_predefined_func()\n",
    "```"
   ]
  },
  {
   "cell_type": "code",
   "execution_count": 2,
   "metadata": {},
   "outputs": [
    {
     "data": {
      "text/plain": [
       "Current runtime mode is set to: debug ['debug', 'dryrun', 'production']"
      ]
     },
     "execution_count": 2,
     "metadata": {},
     "output_type": "execute_result"
    }
   ],
   "source": [
    "mode"
   ]
  },
  {
   "cell_type": "code",
   "execution_count": 7,
   "metadata": {},
   "outputs": [
    {
     "name": "stdout",
     "output_type": "stream",
     "text": [
      "func:\n"
     ]
    },
    {
     "data": {
      "text/html": [
       "<table>\n",
       "<thead>\n",
       "<tr><th>name             </th><th>description                                    </th></tr>\n",
       "</thead>\n",
       "<tbody>\n",
       "<tr><td>get_runengine    </td><td>Get a bluesky RunEngine                        </td></tr>\n",
       "<tr><td>load_config      </td><td>load yaml to a dict                            </td></tr>\n",
       "<tr><td>get_shutter      </td><td>Return a connection to a sim/real shutter      </td></tr>\n",
       "<tr><td>get_motors       </td><td>Return a connection to sim/real tomostage motor</td></tr>\n",
       "<tr><td>get_fly_motor    </td><td>Return a connection to fly IOC control         </td></tr>\n",
       "<tr><td>get_detector     </td><td>Return a connection to the detector            </td></tr>\n",
       "<tr><td>instrument_in_use</td><td>instrument status, manual set on IOC           </td></tr>\n",
       "<tr><td>hutch_light_on   </td><td>Hutch lighting status                          </td></tr>\n",
       "<tr><td>init_tomo        </td><td>(Re)-initialized all devices with given mode   </td></tr>\n",
       "</tbody>\n",
       "</table>"
      ],
      "text/plain": [
       "<IPython.core.display.HTML object>"
      ]
     },
     "metadata": {},
     "output_type": "display_data"
    }
   ],
   "source": [
    "print('func:')\n",
    "list_predefined_func()"
   ]
  },
  {
   "cell_type": "markdown",
   "metadata": {},
   "source": [
    "__Fill__ out the __experiment details__ below for the metadata handler (MongoDB)"
   ]
  },
  {
   "cell_type": "code",
   "execution_count": 3,
   "metadata": {},
   "outputs": [],
   "source": [
    "RE.md['beamline_id']      = 'APS 6-ID-D'\n",
    "RE.md['proposal_id']      = 'internal test'\n",
    "RE.md['pid']              = os.getpid()\n",
    "RE.md['login_id']         = USERNAME + '@' + HOSTNAME\n",
    "RE.md['BLUESKY_VERSION']  = bluesky.__version__\n",
    "RE.md['OPHYD_VERSION']    = ophyd.__version__\n",
    "RE.md['apstools_VERSION'] = apstools.__version__\n",
    "RE.md['SESSION_STARTED']  = datetime.isoformat(datetime.now(), \" \")"
   ]
  },
  {
   "cell_type": "markdown",
   "metadata": {},
   "source": [
    "# Initialization\n",
    "\n",
    "Perform control initialization for all related hardware."
   ]
  },
  {
   "cell_type": "code",
   "execution_count": 3,
   "metadata": {},
   "outputs": [],
   "source": [
    "mode.set('debug')"
   ]
  },
  {
   "cell_type": "markdown",
   "metadata": {},
   "source": [
    "Install global __suspenders__ as a safeguard for this experiment"
   ]
  },
  {
   "cell_type": "code",
   "execution_count": null,
   "metadata": {},
   "outputs": [],
   "source": [
    "import apstools.devices      as APS_devices\n",
    "from   bluesky.suspenders import SuspendFloor\n",
    "\n",
    "aps = APS_devices.ApsMachineParametersDevice(name=\"APS\")\n",
    "\n",
    "# monitor ring current\n",
    "suspend_APS_current = SuspendFloor(aps.current, 2, resume_thresh=10)\n",
    "RE.install_suspender(suspend_APS_current)\n",
    "\n",
    "# monitor shutter status\n",
    "# NOTE: do not install right away since we need to close the shutter to collect dark field\n",
    "suspend_A_shutter = SuspendFloor(A_shutter.pss_state, 1)\n"
   ]
  },
  {
   "cell_type": "markdown",
   "metadata": {},
   "source": [
    "Import the __necessary__ predefined plan stubs"
   ]
  },
  {
   "cell_type": "code",
   "execution_count": 4,
   "metadata": {},
   "outputs": [],
   "source": [
    "from seisidd.tomo_plans import tomo_scan\n",
    "\n",
    "scan_cfg = 'seis_idd/config/tomo_scan_template.yml'"
   ]
  },
  {
   "cell_type": "markdown",
   "metadata": {},
   "source": [
    "Make sure check the scan with _summarize_plan_ before running"
   ]
  },
  {
   "cell_type": "code",
   "execution_count": null,
   "metadata": {},
   "outputs": [],
   "source": [
    "from bluesky.simulators import summarize_plan"
   ]
  },
  {
   "cell_type": "code",
   "execution_count": 5,
   "metadata": {},
   "outputs": [
    {
     "name": "stderr",
     "output_type": "stream",
     "text": [
      "ERROR:root:Internal Python error in the inspect module.\n",
      "Below is the traceback from this internal error.\n",
      "\n"
     ]
    },
    {
     "name": "stdout",
     "output_type": "stream",
     "text": [
      "Traceback (most recent call last):\n",
      "  File \"/Users/chenzhang/opt/anaconda3/envs/bluesky/lib/python3.7/site-packages/IPython/core/interactiveshell.py\", line 3325, in run_code\n",
      "    exec(code_obj, self.user_global_ns, self.user_ns)\n",
      "  File \"<ipython-input-5-54f2b58c1825>\", line 1, in <module>\n",
      "    summarize_plan(tomo_scan(det, tomostage, A_shutter, suspend_A_shutter, scan_cfg))\n",
      "NameError: name 'summarize_plan' is not defined\n",
      "\n",
      "During handling of the above exception, another exception occurred:\n",
      "\n",
      "Traceback (most recent call last):\n",
      "  File \"/Users/chenzhang/opt/anaconda3/envs/bluesky/lib/python3.7/site-packages/IPython/core/interactiveshell.py\", line 2039, in showtraceback\n",
      "    stb = value._render_traceback_()\n",
      "AttributeError: 'NameError' object has no attribute '_render_traceback_'\n",
      "\n",
      "During handling of the above exception, another exception occurred:\n",
      "\n",
      "Traceback (most recent call last):\n",
      "  File \"/Users/chenzhang/opt/anaconda3/envs/bluesky/lib/python3.7/site-packages/IPython/core/ultratb.py\", line 1101, in get_records\n",
      "    return _fixed_getinnerframes(etb, number_of_lines_of_context, tb_offset)\n",
      "  File \"/Users/chenzhang/opt/anaconda3/envs/bluesky/lib/python3.7/site-packages/IPython/core/ultratb.py\", line 319, in wrapped\n",
      "    return f(*args, **kwargs)\n",
      "  File \"/Users/chenzhang/opt/anaconda3/envs/bluesky/lib/python3.7/site-packages/IPython/core/ultratb.py\", line 353, in _fixed_getinnerframes\n",
      "    records = fix_frame_records_filenames(inspect.getinnerframes(etb, context))\n",
      "  File \"/Users/chenzhang/opt/anaconda3/envs/bluesky/lib/python3.7/inspect.py\", line 1502, in getinnerframes\n",
      "    frameinfo = (tb.tb_frame,) + getframeinfo(tb, context)\n",
      "  File \"/Users/chenzhang/opt/anaconda3/envs/bluesky/lib/python3.7/inspect.py\", line 1460, in getframeinfo\n",
      "    filename = getsourcefile(frame) or getfile(frame)\n",
      "  File \"/Users/chenzhang/opt/anaconda3/envs/bluesky/lib/python3.7/inspect.py\", line 696, in getsourcefile\n",
      "    if getattr(getmodule(object, filename), '__loader__', None) is not None:\n",
      "  File \"/Users/chenzhang/opt/anaconda3/envs/bluesky/lib/python3.7/inspect.py\", line 742, in getmodule\n",
      "    os.path.realpath(f)] = module.__name__\n",
      "AttributeError: module has no attribute '__name__'\n"
     ]
    },
    {
     "ename": "NameError",
     "evalue": "name 'summarize_plan' is not defined",
     "output_type": "error",
     "traceback": [
      "\u001b[0;31m---------------------------------------------------------------------------\u001b[0m"
     ]
    }
   ],
   "source": [
    "summarize_plan(tomo_scan(det, tomostage, A_shutter, suspend_A_shutter, scan_cfg))"
   ]
  },
  {
   "cell_type": "code",
   "execution_count": null,
   "metadata": {},
   "outputs": [],
   "source": []
  }
 ],
 "metadata": {
  "kernelspec": {
   "display_name": "Python 3",
   "language": "python",
   "name": "python3"
  },
  "language_info": {
   "codemirror_mode": {
    "name": "ipython",
    "version": 3
   },
   "file_extension": ".py",
   "mimetype": "text/x-python",
   "name": "python",
   "nbconvert_exporter": "python",
   "pygments_lexer": "ipython3",
   "version": "3.7.3"
  }
 },
 "nbformat": 4,
 "nbformat_minor": 4
}
