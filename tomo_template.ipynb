{
 "cells": [
  {
   "cell_type": "markdown",
   "metadata": {},
   "source": [
    "# Preparation\n",
    "\n",
    "Load necessary modules and initialize relavent devices"
   ]
  },
  {
   "cell_type": "code",
   "execution_count": 1,
   "metadata": {},
   "outputs": [
    {
     "name": "stderr",
     "output_type": "stream",
     "text": [
      "/Users/chenzhang/opt/anaconda3/envs/bluesky/lib/python3.7/site-packages/databroker/_core.py:962: YAMLLoadWarning: calling yaml.load() without Loader=... is deprecated, as the default Loader is unsafe. Please read https://msg.pyyaml.org/load for full details.\n",
      "  return yaml.load(f)\n",
      "/Users/chenzhang/opt/anaconda3/envs/bluesky/lib/python3.7/site-packages/epics/pv.py:110: UserWarning: The `context` kwarg for epics.get_pv() is deprecated. New PVs will _not_ be created in the requested context.\n",
      "  'The `context` kwarg for epics.get_pv() is deprecated. New PVs '\n"
     ]
    },
    {
     "name": "stdout",
     "output_type": "stream",
     "text": [
      "\n",
      "🙊: Use init_tomo() to toggle between\n",
      "    debug :     development mode, no hardware connection\n",
      "    dryrun:     testing mode, connect to hardware, no beam\n",
      "    production: ready for experiment\n",
      "\n"
     ]
    }
   ],
   "source": [
    "%run seis_idd/tomo_init.py"
   ]
  },
  {
   "cell_type": "markdown",
   "metadata": {},
   "source": [
    "You can check the __prefined variables and functions__ in the following two dictionaries:\n",
    "\n",
    "```\n",
    "keywords_vars = {}  # {name: short description}\n",
    "keywords_func = {}  # {name: short descciption}\n",
    "```\n",
    "\n",
    "or the corresponding functions:\n",
    "\n",
    "```\n",
    "list_predefined_vars()\n",
    "list_predefined_func()\n",
    "```"
   ]
  },
  {
   "cell_type": "code",
   "execution_count": 6,
   "metadata": {},
   "outputs": [
    {
     "name": "stdout",
     "output_type": "stream",
     "text": [
      "var:\n"
     ]
    },
    {
     "data": {
      "text/html": [
       "<table>\n",
       "<thead>\n",
       "<tr><th>name             </th><th>description                     </th></tr>\n",
       "</thead>\n",
       "<tbody>\n",
       "<tr><td>HOSTNAME         </td><td>host name                       </td></tr>\n",
       "<tr><td>USERNAME         </td><td>PI/user name                    </td></tr>\n",
       "<tr><td>metadata_db      </td><td>Default metadata handler        </td></tr>\n",
       "<tr><td>RE               </td><td>Default RunEngine instance      </td></tr>\n",
       "<tr><td>A_shutter        </td><td>shutter instance                </td></tr>\n",
       "<tr><td>suspend_A_shutter</td><td>no scans until A_shutter is open</td></tr>\n",
       "<tr><td>tomostage        </td><td>sim/real tomo stage             </td></tr>\n",
       "<tr><td>preci            </td><td>rotation control                </td></tr>\n",
       "<tr><td>samX             </td><td>tomo stage x-translation        </td></tr>\n",
       "<tr><td>ksamx            </td><td>?                               </td></tr>\n",
       "<tr><td>samY             </td><td>tomo stage y-translation        </td></tr>\n",
       "<tr><td>psofly           </td><td>fly control instance            </td></tr>\n",
       "<tr><td>det              </td><td>Area detector instance          </td></tr>\n",
       "</tbody>\n",
       "</table>"
      ],
      "text/plain": [
       "<IPython.core.display.HTML object>"
      ]
     },
     "metadata": {},
     "output_type": "display_data"
    }
   ],
   "source": [
    "print('var:')\n",
    "list_predefined_vars()"
   ]
  },
  {
   "cell_type": "code",
   "execution_count": 7,
   "metadata": {},
   "outputs": [
    {
     "name": "stdout",
     "output_type": "stream",
     "text": [
      "func:\n"
     ]
    },
    {
     "data": {
      "text/html": [
       "<table>\n",
       "<thead>\n",
       "<tr><th>name             </th><th>description                                    </th></tr>\n",
       "</thead>\n",
       "<tbody>\n",
       "<tr><td>get_runengine    </td><td>Get a bluesky RunEngine                        </td></tr>\n",
       "<tr><td>load_config      </td><td>load yaml to a dict                            </td></tr>\n",
       "<tr><td>get_shutter      </td><td>Return a connection to a sim/real shutter      </td></tr>\n",
       "<tr><td>get_motors       </td><td>Return a connection to sim/real tomostage motor</td></tr>\n",
       "<tr><td>get_fly_motor    </td><td>Return a connection to fly IOC control         </td></tr>\n",
       "<tr><td>get_detector     </td><td>Return a connection to the detector            </td></tr>\n",
       "<tr><td>instrument_in_use</td><td>instrument status, manual set on IOC           </td></tr>\n",
       "<tr><td>hutch_light_on   </td><td>Hutch lighting status                          </td></tr>\n",
       "<tr><td>init_tomo        </td><td>(Re)-initialized all devices with given mode   </td></tr>\n",
       "</tbody>\n",
       "</table>"
      ],
      "text/plain": [
       "<IPython.core.display.HTML object>"
      ]
     },
     "metadata": {},
     "output_type": "display_data"
    }
   ],
   "source": [
    "print('func:')\n",
    "list_predefined_func()"
   ]
  },
  {
   "cell_type": "markdown",
   "metadata": {},
   "source": [
    "__Fill__ out the __experiment details__ below for the metadata handler (MongoDB)"
   ]
  },
  {
   "cell_type": "code",
   "execution_count": 3,
   "metadata": {},
   "outputs": [],
   "source": [
    "RE.md['beamline_id']      = 'APS 6-ID-D'\n",
    "RE.md['proposal_id']      = 'internal test'\n",
    "RE.md['pid']              = os.getpid()\n",
    "RE.md['login_id']         = USERNAME + '@' + HOSTNAME\n",
    "RE.md['BLUESKY_VERSION']  = bluesky.__version__\n",
    "RE.md['OPHYD_VERSION']    = ophyd.__version__\n",
    "RE.md['apstools_VERSION'] = apstools.__version__\n",
    "RE.md['SESSION_STARTED']  = datetime.isoformat(datetime.now(), \" \")"
   ]
  },
  {
   "cell_type": "markdown",
   "metadata": {},
   "source": [
    "# Initialization\n",
    "\n",
    "Perform control initialization for all related hardware."
   ]
  },
  {
   "cell_type": "code",
   "execution_count": null,
   "metadata": {},
   "outputs": [],
   "source": [
    "init_tomo(mode='debug')"
   ]
  },
  {
   "cell_type": "markdown",
   "metadata": {},
   "source": [
    "Install global __suspenders__ as a safeguard for this experiment"
   ]
  },
  {
   "cell_type": "code",
   "execution_count": null,
   "metadata": {},
   "outputs": [],
   "source": [
    "import apstools.devices      as APS_devices\n",
    "from   bluesky.suspenders import SuspendFloor\n",
    "\n",
    "aps = APS_devices.ApsMachineParametersDevice(name=\"APS\")\n",
    "\n",
    "# monitor ring current\n",
    "suspend_APS_current = SuspendFloor(aps.current, 2, resume_thresh=10)\n",
    "RE.install_suspender(suspend_APS_current)\n",
    "\n",
    "# monitor shutter status\n",
    "# NOTE: do not install right away since we need to close the shutter to collect dark field\n",
    "suspend_A_shutter = SuspendFloor(A_shutter.pss_state, 1)\n"
   ]
  },
  {
   "cell_type": "markdown",
   "metadata": {},
   "source": [
    "Import the __necessary__ predefined plan stubs"
   ]
  },
  {
   "cell_type": "code",
   "execution_count": null,
   "metadata": {},
   "outputs": [],
   "source": [
    "from seis_idd.tomo_plans import tomo_scan\n",
    "\n",
    "scan_cfg = 'seis_idd/config/tomo_scan_template.yml'"
   ]
  },
  {
   "cell_type": "markdown",
   "metadata": {},
   "source": [
    "Make sure check the scan with _summarize_plan_ before running"
   ]
  },
  {
   "cell_type": "code",
   "execution_count": null,
   "metadata": {},
   "outputs": [],
   "source": [
    "from bluesky.simulators import summarize_plan"
   ]
  },
  {
   "cell_type": "code",
   "execution_count": null,
   "metadata": {},
   "outputs": [],
   "source": [
    "summarize_plan(tomo_scan(det, tomostage, A_shutter, suspend_A_shutter, scan_cfg))"
   ]
  }
 ],
 "metadata": {
  "kernelspec": {
   "display_name": "Python 3",
   "language": "python",
   "name": "python3"
  },
  "language_info": {
   "codemirror_mode": {
    "name": "ipython",
    "version": 3
   },
   "file_extension": ".py",
   "mimetype": "text/x-python",
   "name": "python",
   "nbconvert_exporter": "python",
   "pygments_lexer": "ipython3",
   "version": "3.7.3"
  }
 },
 "nbformat": 4,
 "nbformat_minor": 4
}
