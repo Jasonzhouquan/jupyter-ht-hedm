{
 "cells": [
  {
   "cell_type": "markdown",
   "metadata": {},
   "source": [
    "# Preparation\n",
    "\n",
    "Load necessary modules and initialize relavent devices"
   ]
  },
  {
   "cell_type": "code",
   "execution_count": 1,
   "metadata": {},
   "outputs": [
    {
     "name": "stderr",
     "output_type": "stream",
     "text": [
      "/Users/chenzhang/opt/anaconda3/envs/bluesky/lib/python3.7/site-packages/databroker/_core.py:962: YAMLLoadWarning: calling yaml.load() without Loader=... is deprecated, as the default Loader is unsafe. Please read https://msg.pyyaml.org/load for full details.\n",
      "  return yaml.load(f)\n"
     ]
    }
   ],
   "source": [
    "%run seis-idd/tomo_init.py"
   ]
  },
  {
   "cell_type": "markdown",
   "metadata": {},
   "source": [
    "You can check the __prefined variables and functions__ in the following two dictionaries:\n",
    "\n",
    "```\n",
    "keywords_vars = {}  # {name: short description}\n",
    "keywords_func = {}  # {name: short descciption}\n",
    "```\n",
    "\n",
    "or the corresponding functions:\n",
    "\n",
    "```\n",
    "list_predefined_vars()\n",
    "list_predefined_func()\n",
    "```"
   ]
  },
  {
   "cell_type": "code",
   "execution_count": 3,
   "metadata": {},
   "outputs": [
    {
     "data": {
      "text/html": [
       "<table>\n",
       "<thead>\n",
       "<tr><th>name       </th><th>description               </th></tr>\n",
       "</thead>\n",
       "<tbody>\n",
       "<tr><td>HOSTNAME   </td><td>host name                 </td></tr>\n",
       "<tr><td>USERNAME   </td><td>PI/user name              </td></tr>\n",
       "<tr><td>metadata_db</td><td>Default metadata handler  </td></tr>\n",
       "<tr><td>RE         </td><td>Default RunEngine instance</td></tr>\n",
       "</tbody>\n",
       "</table>"
      ],
      "text/plain": [
       "<IPython.core.display.HTML object>"
      ]
     },
     "metadata": {},
     "output_type": "display_data"
    },
    {
     "data": {
      "text/html": [
       "<table>\n",
       "<thead>\n",
       "<tr><th>name        </th><th>description            </th></tr>\n",
       "</thead>\n",
       "<tbody>\n",
       "<tr><td>getRunEngine</td><td>Get a bluesky RunEngine</td></tr>\n",
       "<tr><td>load_config </td><td>load yaml to a dict    </td></tr>\n",
       "</tbody>\n",
       "</table>"
      ],
      "text/plain": [
       "<IPython.core.display.HTML object>"
      ]
     },
     "metadata": {},
     "output_type": "display_data"
    }
   ],
   "source": [
    "list_predefined_vars()\n",
    "list_predefined_func()"
   ]
  },
  {
   "cell_type": "markdown",
   "metadata": {},
   "source": [
    "Please fill out the experiment details below"
   ]
  },
  {
   "cell_type": "code",
   "execution_count": null,
   "metadata": {},
   "outputs": [],
   "source": [
    "RE.md['beamline_id']      = 'APS 6-ID-D'\n",
    "RE.md['proposal_id']      = 'internal test'\n",
    "RE.md['pid']              = os.getpid()\n",
    "RE.md['login_id']         = USERNAME + '@' + HOSTNAME\n",
    "RE.md['BLUESKY_VERSION']  = bluesky.__version__\n",
    "RE.md['OPHYD_VERSION']    = ophyd.__version__\n",
    "RE.md['apstools_VERSION'] = apstools.__version__\n",
    "RE.md['SESSION_STARTED']  = datetime.isoformat(datetime.now(), \" \")"
   ]
  },
  {
   "cell_type": "code",
   "execution_count": null,
   "metadata": {},
   "outputs": [],
   "source": [
    "list_predefined_vars()"
   ]
  },
  {
   "cell_type": "code",
   "execution_count": null,
   "metadata": {},
   "outputs": [],
   "source": []
  },
  {
   "cell_type": "markdown",
   "metadata": {},
   "source": [
    "# Initialization\n",
    "\n",
    "Perform control initialization for all related hardware."
   ]
  },
  {
   "cell_type": "code",
   "execution_count": null,
   "metadata": {},
   "outputs": [],
   "source": []
  },
  {
   "cell_type": "code",
   "execution_count": null,
   "metadata": {},
   "outputs": [],
   "source": []
  },
  {
   "cell_type": "code",
   "execution_count": null,
   "metadata": {},
   "outputs": [],
   "source": []
  },
  {
   "cell_type": "code",
   "execution_count": null,
   "metadata": {},
   "outputs": [],
   "source": []
  },
  {
   "cell_type": "code",
   "execution_count": null,
   "metadata": {},
   "outputs": [],
   "source": []
  }
 ],
 "metadata": {
  "kernelspec": {
   "display_name": "Python 3",
   "language": "python",
   "name": "python3"
  },
  "language_info": {
   "codemirror_mode": {
    "name": "ipython",
    "version": 3
   },
   "file_extension": ".py",
   "mimetype": "text/x-python",
   "name": "python",
   "nbconvert_exporter": "python",
   "pygments_lexer": "ipython3",
   "version": "3.7.3"
  }
 },
 "nbformat": 4,
 "nbformat_minor": 4
}
