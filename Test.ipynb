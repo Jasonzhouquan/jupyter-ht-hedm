{
 "cells": [
  {
   "cell_type": "code",
   "execution_count": 1,
   "metadata": {},
   "outputs": [],
   "source": [
    "import numpy as np\n",
    "import matplotlib\n",
    "import bluesky\n",
    "import ophyd\n",
    "import apstools\n",
    "import databroker\n",
    "\n",
    "from datetime import datetime\n",
    "from seisidd.experiment import Tomography\n",
    "\n"
   ]
  },
  {
   "cell_type": "code",
   "execution_count": 2,
   "metadata": {},
   "outputs": [
    {
     "name": "stderr",
     "output_type": "stream",
     "text": [
      "/opt/conda/lib/python3.7/site-packages/epics/pv.py:110: UserWarning: The `context` kwarg for epics.get_pv() is deprecated. New PVs will _not_ be created in the requested context.\n",
      "  'The `context` kwarg for epics.get_pv() is deprecated. New PVs '\n"
     ]
    }
   ],
   "source": [
    "# instantiate the experiment handle\n",
    "\n",
    "test = Tomography()"
   ]
  },
  {
   "cell_type": "code",
   "execution_count": 3,
   "metadata": {},
   "outputs": [],
   "source": [
    "scan_cfg = 'seisidd/config/scan_template.yml'"
   ]
  },
  {
   "cell_type": "code",
   "execution_count": 13,
   "metadata": {},
   "outputs": [
    {
     "name": "stdout",
     "output_type": "stream",
     "text": [
      "Tomo configuration:\n",
      "type = step \n",
      "n_white = 5 \n",
      "n_dark = 5 \n",
      "sample_out_position:\n",
      "  kx = -1 \n",
      "  kz = 0 \n",
      "acquire_time = 0.5 \n",
      "acquire_period = 0.51 \n",
      "omega_step = 1 \n",
      "omega_start = 0.0 \n",
      "omega_end = 19.0 \n",
      "n_frames = 5 \n",
      "ROT_STAGE_FAST_SPEED = 1 \n",
      "accl = 3 \n",
      "readout_time = 0.001 \n",
      "n_projections = 20 \n",
      "total_images = 35 \n",
      "initial_kx = -0.9500000000000001 \n",
      "initial_kz = 0.33 \n",
      "fronte_white_kx = -1.9500000000000002 \n",
      "fronte_white_kz = 0.33 \n",
      "back_white_kx = -1.895518575599317 \n",
      "back_white_kz = 0.6555681544571568 \n",
      "\n",
      "Output:\n",
      "filepath = /data \n",
      "fileprefix = ttt \n",
      "type = tiff \n",
      "\n",
      "Transient Scan ID: 7     Time: 2019-10-18 15:19:39\n",
      "Persistent Unique Scan ID: '4d4654aa-f8d8-448b-8cae-a08ccb592ff6'\n",
      "New stream: 'primary'\n",
      "+-----------+------------+\n",
      "|   seq_num |       time |\n",
      "+-----------+------------+\n",
      "|         1 | 15:19:53.3 |\n",
      "|         2 | 15:20:16.4 |\n",
      "|         3 | 15:20:20.2 |\n",
      "|         4 | 15:20:24.0 |\n",
      "|         5 | 15:20:27.9 |\n",
      "|         6 | 15:20:31.7 |\n",
      "|         7 | 15:20:35.5 |\n",
      "|         8 | 15:20:39.3 |\n",
      "|         9 | 15:20:43.2 |\n",
      "|        10 | 15:20:47.0 |\n",
      "|        11 | 15:20:50.8 |\n",
      "|        12 | 15:20:54.6 |\n",
      "|        13 | 15:20:58.5 |\n",
      "|        14 | 15:21:02.3 |\n",
      "|        15 | 15:21:06.1 |\n",
      "|        16 | 15:21:09.9 |\n",
      "|        17 | 15:21:13.8 |\n",
      "|        18 | 15:21:17.6 |\n",
      "|        19 | 15:21:21.4 |\n",
      "|        20 | 15:21:25.3 |\n",
      "|        21 | 15:21:29.1 |\n",
      "|        22 | 15:21:43.7 |\n",
      "|        23 | 15:21:58.4 |\n",
      "+-----------+------------+\n",
      "generator tomo_scan ['4d4654aa'] (scan num: 7)\n",
      "\n",
      "\n",
      "\n"
     ]
    },
    {
     "data": {
      "text/plain": [
       "('4d4654aa-f8d8-448b-8cae-a08ccb592ff6',)"
      ]
     },
     "execution_count": 13,
     "metadata": {},
     "output_type": "execute_result"
    }
   ],
   "source": [
    "test.run(scan_cfg)"
   ]
  },
  {
   "cell_type": "code",
   "execution_count": 11,
   "metadata": {},
   "outputs": [
    {
     "name": "stdout",
     "output_type": "stream",
     "text": [
      "Aborting: running cleanup and marking exit_status as 'abort'...\n",
      "+-----------+------------+\n",
      "generator tomo_scan ['8d193c97'] (scan num: 5)\n",
      "\n",
      "\n",
      "\n",
      "[E 15:16:05.916 run_engine:1469] Run aborted\n",
      "    Traceback (most recent call last):\n",
      "      File \"/opt/conda/lib/python3.7/site-packages/bluesky/run_engine.py\", line 1345, in _run\n",
      "        msg = self._plan_stack[-1].send(resp)\n",
      "      File \"/home/jupyter-ht-hedm/seisidd/experiment.py\", line 616, in tomo_scan\n",
      "        return (yield from scan_closure())\n",
      "      File \"/opt/conda/lib/python3.7/site-packages/bluesky/utils.py\", line 1043, in dec_inner\n",
      "        return (yield from plan)\n",
      "      File \"/opt/conda/lib/python3.7/site-packages/bluesky/preprocessors.py\", line 940, in stage_wrapper\n",
      "        return (yield from finalize_wrapper(inner(), unstage_devices()))\n",
      "      File \"/opt/conda/lib/python3.7/site-packages/bluesky/preprocessors.py\", line 501, in finalize_wrapper\n",
      "        ret = yield from plan\n",
      "      File \"/opt/conda/lib/python3.7/site-packages/bluesky/preprocessors.py\", line 938, in inner\n",
      "        return (yield from plan)\n",
      "      File \"/opt/conda/lib/python3.7/site-packages/bluesky/utils.py\", line 1043, in dec_inner\n",
      "        return (yield from plan)\n",
      "      File \"/opt/conda/lib/python3.7/site-packages/bluesky/preprocessors.py\", line 327, in run_wrapper\n",
      "        else_plan=close_run)\n",
      "      File \"/opt/conda/lib/python3.7/site-packages/bluesky/preprocessors.py\", line 563, in contingency_wrapper\n",
      "        ret = yield from plan\n",
      "      File \"/home/jupyter-ht-hedm/seisidd/experiment.py\", line 596, in scan_closure\n",
      "        yield from self.step_scan(cfg['tomo'])\n",
      "      File \"/home/jupyter-ht-hedm/seisidd/experiment.py\", line 397, in step_scan\n",
      "        yield from bps.mv(tomostage.rot, ang)\n",
      "      File \"/opt/conda/lib/python3.7/site-packages/bluesky/plan_stubs.py\", line 247, in mv\n",
      "        yield Msg('wait', None, group=group)\n",
      "    bluesky.utils.RequestAbort\n"
     ]
    },
    {
     "data": {
      "text/plain": [
       "('8d193c97-6341-42f5-adf0-fd244286ad64',)"
      ]
     },
     "execution_count": 11,
     "metadata": {},
     "output_type": "execute_result"
    }
   ],
   "source": [
    "test.RE.abort()\n"
   ]
  },
  {
   "cell_type": "code",
   "execution_count": 16,
   "metadata": {},
   "outputs": [],
   "source": [
    "det = test.tomo_det.proc1\n"
   ]
  },
  {
   "cell_type": "code",
   "execution_count": 22,
   "metadata": {},
   "outputs": [],
   "source": [
    "det.filter_callbacks.put(1)"
   ]
  },
  {
   "cell_type": "code",
   "execution_count": 26,
   "metadata": {},
   "outputs": [
    {
     "name": "stdout",
     "output_type": "stream",
     "text": [
      "Tomo configuration:\n",
      "type = step \n",
      "n_white = 5 \n",
      "n_dark = 5 \n",
      "sample_out_position:\n",
      "  kx = -1 \n",
      "  kz = 0 \n",
      "acquire_time = 0.1 \n",
      "acquire_period = 0.11 \n",
      "omega_step = 1 \n",
      "omega_start = 0.0 \n",
      "omega_end = 99.0 \n",
      "n_frames = 2 \n",
      "ROT_STAGE_FAST_SPEED = 1 \n",
      "accl = 3 \n",
      "readout_time = 0.001 \n",
      "n_projections = 100 \n",
      "total_images = 115 \n",
      "initial_kx = 0.0 \n",
      "initial_kz = 0.0 \n",
      "fronte_white_kx = -1.0 \n",
      "fronte_white_kz = 0.0 \n",
      "back_white_kx = 0.1564344650402308 \n",
      "back_white_kz = 0.9876883405951378 \n",
      "\n",
      "Output:\n",
      "filepath = /data \n",
      "fileprefix = ttt \n",
      "type = tiff \n",
      "\n",
      "Transient Scan ID: 6     Time: 2019-10-17 22:13:57\n",
      "Persistent Unique Scan ID: '6157d5b1-8b33-420b-ae6b-e0e048fea2f5'\n",
      "New stream: 'primary'\n",
      "+-----------+------------+\n",
      "|   seq_num |       time |\n",
      "+-----------+------------+\n",
      "|         1 | 22:13:59.7 |\n",
      "A 'deferred pause' has been requested. The RunEngine will pause at the next checkpoint. To pause immediately, hit Ctrl+C again in the next 10 seconds.\n",
      "Deferred pause acknowledged. Continuing to checkpoint.\n",
      "trying a second time\n",
      "Pausing...\n"
     ]
    },
    {
     "ename": "RunEngineInterrupted",
     "evalue": "\nYour RunEngine is entering a paused state. These are your options for changing\nthe state of the RunEngine:\n\nRE.resume()    Resume the plan.\nRE.abort()     Perform cleanup, then kill plan. Mark exit_stats='aborted'.\nRE.stop()      Perform cleanup, then kill plan. Mark exit_status='success'.\nRE.halt()      Emergency Stop: Do not perform cleanup --- just stop.\n",
     "output_type": "error",
     "traceback": [
      "\u001b[0;31m\u001b[0m",
      "\u001b[0;31mRunEngineInterrupted\u001b[0mTraceback (most recent call last)",
      "\u001b[0;32m<ipython-input-26-a156342e0877>\u001b[0m in \u001b[0;36m<module>\u001b[0;34m\u001b[0m\n\u001b[0;32m----> 1\u001b[0;31m \u001b[0mtest\u001b[0m\u001b[0;34m.\u001b[0m\u001b[0mrun\u001b[0m\u001b[0;34m(\u001b[0m\u001b[0mscan_cfg\u001b[0m\u001b[0;34m)\u001b[0m\u001b[0;34m\u001b[0m\u001b[0;34m\u001b[0m\u001b[0m\n\u001b[0m",
      "\u001b[0;32m/home/jupyter-ht-hedm/seisidd/experiment.py\u001b[0m in \u001b[0;36mrun\u001b[0;34m(self, scan_config)\u001b[0m\n\u001b[1;32m    617\u001b[0m         \u001b[0;34m\"\"\"use summarize_plan for quick analysis\"\"\"\u001b[0m\u001b[0;34m\u001b[0m\u001b[0;34m\u001b[0m\u001b[0m\n\u001b[1;32m    618\u001b[0m         \u001b[0;32mreturn\u001b[0m \u001b[0msummarize_plan\u001b[0m\u001b[0;34m(\u001b[0m\u001b[0mself\u001b[0m\u001b[0;34m.\u001b[0m\u001b[0mtomo_scan\u001b[0m\u001b[0;34m(\u001b[0m\u001b[0mscan_config\u001b[0m\u001b[0;34m)\u001b[0m\u001b[0;34m)\u001b[0m\u001b[0;34m\u001b[0m\u001b[0;34m\u001b[0m\u001b[0m\n\u001b[0;32m--> 619\u001b[0;31m \u001b[0;34m\u001b[0m\u001b[0m\n\u001b[0m\u001b[1;32m    620\u001b[0m     \u001b[0;32mdef\u001b[0m \u001b[0mrun\u001b[0m\u001b[0;34m(\u001b[0m\u001b[0mself\u001b[0m\u001b[0;34m,\u001b[0m\u001b[0mscan_config\u001b[0m\u001b[0;34m)\u001b[0m\u001b[0;34m:\u001b[0m\u001b[0;34m\u001b[0m\u001b[0;34m\u001b[0m\u001b[0m\n\u001b[1;32m    621\u001b[0m         \u001b[0;34m\"\"\"run tomo_scan with RE\"\"\"\u001b[0m\u001b[0;34m\u001b[0m\u001b[0;34m\u001b[0m\u001b[0m\n",
      "\u001b[0;32m/opt/conda/lib/python3.7/site-packages/bluesky/run_engine.py\u001b[0m in \u001b[0;36m__call__\u001b[0;34m(self, *args, **metadata_kw)\u001b[0m\n\u001b[1;32m    794\u001b[0m \u001b[0;34m\u001b[0m\u001b[0m\n\u001b[1;32m    795\u001b[0m         \u001b[0;32mif\u001b[0m \u001b[0mself\u001b[0m\u001b[0;34m.\u001b[0m\u001b[0m_interrupted\u001b[0m\u001b[0;34m:\u001b[0m\u001b[0;34m\u001b[0m\u001b[0;34m\u001b[0m\u001b[0m\n\u001b[0;32m--> 796\u001b[0;31m             \u001b[0;32mraise\u001b[0m \u001b[0mRunEngineInterrupted\u001b[0m\u001b[0;34m(\u001b[0m\u001b[0mself\u001b[0m\u001b[0;34m.\u001b[0m\u001b[0mpause_msg\u001b[0m\u001b[0;34m)\u001b[0m \u001b[0;32mfrom\u001b[0m \u001b[0;32mNone\u001b[0m\u001b[0;34m\u001b[0m\u001b[0;34m\u001b[0m\u001b[0m\n\u001b[0m\u001b[1;32m    797\u001b[0m \u001b[0;34m\u001b[0m\u001b[0m\n\u001b[1;32m    798\u001b[0m         \u001b[0;32mreturn\u001b[0m \u001b[0mtuple\u001b[0m\u001b[0;34m(\u001b[0m\u001b[0mself\u001b[0m\u001b[0;34m.\u001b[0m\u001b[0m_run_start_uids\u001b[0m\u001b[0;34m)\u001b[0m\u001b[0;34m\u001b[0m\u001b[0;34m\u001b[0m\u001b[0m\n",
      "\u001b[0;31mRunEngineInterrupted\u001b[0m: \nYour RunEngine is entering a paused state. These are your options for changing\nthe state of the RunEngine:\n\nRE.resume()    Resume the plan.\nRE.abort()     Perform cleanup, then kill plan. Mark exit_stats='aborted'.\nRE.stop()      Perform cleanup, then kill plan. Mark exit_status='success'.\nRE.halt()      Emergency Stop: Do not perform cleanup --- just stop.\n"
     ]
    }
   ],
   "source": [
    "test.run(scan_cfg)"
   ]
  },
  {
   "cell_type": "code",
   "execution_count": 5,
   "metadata": {},
   "outputs": [
    {
     "name": "stdout",
     "output_type": "stream",
     "text": [
      "Aborting: running cleanup and marking exit_status as 'abort'...\n",
      "+-----------+------------+\n",
      "generator tomo_scan ['ffab6769'] (scan num: 1)\n",
      "\n",
      "\n",
      "\n",
      "[E 22:42:38.550 run_engine:1469] Run aborted\n",
      "    Traceback (most recent call last):\n",
      "      File \"/opt/conda/lib/python3.7/site-packages/bluesky/run_engine.py\", line 1345, in _run\n",
      "        msg = self._plan_stack[-1].send(resp)\n",
      "      File \"/home/jupyter-ht-hedm/seisidd/experiment.py\", line 614, in tomo_scan\n",
      "        return (yield from scan_closure())\n",
      "      File \"/opt/conda/lib/python3.7/site-packages/bluesky/utils.py\", line 1043, in dec_inner\n",
      "        return (yield from plan)\n",
      "      File \"/opt/conda/lib/python3.7/site-packages/bluesky/preprocessors.py\", line 940, in stage_wrapper\n",
      "        return (yield from finalize_wrapper(inner(), unstage_devices()))\n",
      "      File \"/opt/conda/lib/python3.7/site-packages/bluesky/preprocessors.py\", line 501, in finalize_wrapper\n",
      "        ret = yield from plan\n",
      "      File \"/opt/conda/lib/python3.7/site-packages/bluesky/preprocessors.py\", line 938, in inner\n",
      "        return (yield from plan)\n",
      "      File \"/opt/conda/lib/python3.7/site-packages/bluesky/utils.py\", line 1043, in dec_inner\n",
      "        return (yield from plan)\n",
      "      File \"/opt/conda/lib/python3.7/site-packages/bluesky/preprocessors.py\", line 327, in run_wrapper\n",
      "        else_plan=close_run)\n",
      "      File \"/opt/conda/lib/python3.7/site-packages/bluesky/preprocessors.py\", line 563, in contingency_wrapper\n",
      "        ret = yield from plan\n",
      "      File \"/home/jupyter-ht-hedm/seisidd/experiment.py\", line 594, in scan_closure\n",
      "        yield from self.step_scan(cfg['tomo'])\n",
      "      File \"/home/jupyter-ht-hedm/seisidd/experiment.py\", line 396, in step_scan\n",
      "        yield from bps.trigger_and_read([det])\n",
      "      File \"/opt/conda/lib/python3.7/site-packages/bluesky/plan_stubs.py\", line 802, in trigger_and_read\n",
      "        rewindable))\n",
      "      File \"/opt/conda/lib/python3.7/site-packages/bluesky/preprocessors.py\", line 681, in rewindable_wrapper\n",
      "        return (yield from plan)\n",
      "      File \"/opt/conda/lib/python3.7/site-packages/bluesky/plan_stubs.py\", line 791, in inner_trigger_and_read\n",
      "        yield from wait(group=grp)\n",
      "      File \"/opt/conda/lib/python3.7/site-packages/bluesky/plan_stubs.py\", line 362, in wait\n",
      "        return (yield Msg('wait', None, group=group))\n",
      "    bluesky.utils.RequestAbort\n"
     ]
    },
    {
     "data": {
      "text/plain": [
       "('ffab6769-910e-4908-b943-cb71a91a00e0',)"
      ]
     },
     "execution_count": 5,
     "metadata": {},
     "output_type": "execute_result"
    }
   ],
   "source": [
    "test.RE.abort()"
   ]
  },
  {
   "cell_type": "code",
   "execution_count": null,
   "metadata": {},
   "outputs": [],
   "source": []
  }
 ],
 "metadata": {
  "kernelspec": {
   "display_name": "Python 3",
   "language": "python",
   "name": "python3"
  },
  "language_info": {
   "codemirror_mode": {
    "name": "ipython",
    "version": 3
   },
   "file_extension": ".py",
   "mimetype": "text/x-python",
   "name": "python",
   "nbconvert_exporter": "python",
   "pygments_lexer": "ipython3",
   "version": "3.7.4"
  }
 },
 "nbformat": 4,
 "nbformat_minor": 4
}
